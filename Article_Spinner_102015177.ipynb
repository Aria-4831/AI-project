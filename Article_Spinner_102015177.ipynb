{
  "nbformat": 4,
  "nbformat_minor": 0,
  "metadata": {
    "colab": {
      "provenance": []
    },
    "kernelspec": {
      "name": "python3",
      "display_name": "Python 3"
    },
    "language_info": {
      "name": "python"
    }
  },
  "cells": [
    {
      "cell_type": "code",
      "source": [
        "import numpy as np\n",
        "import pandas as pd\n",
        "import textwrap\n",
        "import nltk\n",
        "from nltk import word_tokenize\n",
        "from nltk.tokenize.treebank import TreebankWordDetokenizer #detokanize the list of tokens back into a single string"
      ],
      "metadata": {
        "id": "Z4xdjTMvRos9"
      },
      "execution_count": 8,
      "outputs": []
    },
    {
      "cell_type": "code",
      "source": [
        "nltk.download('punkt') #downloads the punkt module used for tokenization"
      ],
      "metadata": {
        "colab": {
          "base_uri": "https://localhost:8080/"
        },
        "id": "kAS-cPReSCRm",
        "outputId": "60d66efb-e356-41e6-bfbc-aa13bd2e96c8"
      },
      "execution_count": 9,
      "outputs": [
        {
          "output_type": "stream",
          "name": "stderr",
          "text": [
            "[nltk_data] Downloading package punkt to /root/nltk_data...\n",
            "[nltk_data]   Package punkt is already up-to-date!\n"
          ]
        },
        {
          "output_type": "execute_result",
          "data": {
            "text/plain": [
              "True"
            ]
          },
          "metadata": {},
          "execution_count": 9
        }
      ]
    },
    {
      "cell_type": "code",
      "source": [
        "df = pd.read_csv('bbc_text.csv') #load the data"
      ],
      "metadata": {
        "id": "yZj3YVAiSRVn"
      },
      "execution_count": 10,
      "outputs": []
    },
    {
      "cell_type": "code",
      "source": [
        "df.head() #displays first five rows"
      ],
      "metadata": {
        "colab": {
          "base_uri": "https://localhost:8080/",
          "height": 206
        },
        "id": "klW21RNVTCMg",
        "outputId": "85f5b3eb-3a8c-433e-9b0c-1a3dc658079c"
      },
      "execution_count": 11,
      "outputs": [
        {
          "output_type": "execute_result",
          "data": {
            "text/plain": [
              "                                                text    labels\n",
              "0  Ad sales boost Time Warner profit\\n\\nQuarterly...  business\n",
              "1  Dollar gains on Greenspan speech\\n\\nThe dollar...  business\n",
              "2  Yukos unit buyer faces loan claim\\n\\nThe owner...  business\n",
              "3  High fuel prices hit BA's profits\\n\\nBritish A...  business\n",
              "4  Pernod takeover talk lifts Domecq\\n\\nShares in...  business"
            ],
            "text/html": [
              "\n",
              "  <div id=\"df-269f6cff-f840-46a9-84af-953cd01104ba\">\n",
              "    <div class=\"colab-df-container\">\n",
              "      <div>\n",
              "<style scoped>\n",
              "    .dataframe tbody tr th:only-of-type {\n",
              "        vertical-align: middle;\n",
              "    }\n",
              "\n",
              "    .dataframe tbody tr th {\n",
              "        vertical-align: top;\n",
              "    }\n",
              "\n",
              "    .dataframe thead th {\n",
              "        text-align: right;\n",
              "    }\n",
              "</style>\n",
              "<table border=\"1\" class=\"dataframe\">\n",
              "  <thead>\n",
              "    <tr style=\"text-align: right;\">\n",
              "      <th></th>\n",
              "      <th>text</th>\n",
              "      <th>labels</th>\n",
              "    </tr>\n",
              "  </thead>\n",
              "  <tbody>\n",
              "    <tr>\n",
              "      <th>0</th>\n",
              "      <td>Ad sales boost Time Warner profit\\n\\nQuarterly...</td>\n",
              "      <td>business</td>\n",
              "    </tr>\n",
              "    <tr>\n",
              "      <th>1</th>\n",
              "      <td>Dollar gains on Greenspan speech\\n\\nThe dollar...</td>\n",
              "      <td>business</td>\n",
              "    </tr>\n",
              "    <tr>\n",
              "      <th>2</th>\n",
              "      <td>Yukos unit buyer faces loan claim\\n\\nThe owner...</td>\n",
              "      <td>business</td>\n",
              "    </tr>\n",
              "    <tr>\n",
              "      <th>3</th>\n",
              "      <td>High fuel prices hit BA's profits\\n\\nBritish A...</td>\n",
              "      <td>business</td>\n",
              "    </tr>\n",
              "    <tr>\n",
              "      <th>4</th>\n",
              "      <td>Pernod takeover talk lifts Domecq\\n\\nShares in...</td>\n",
              "      <td>business</td>\n",
              "    </tr>\n",
              "  </tbody>\n",
              "</table>\n",
              "</div>\n",
              "      <button class=\"colab-df-convert\" onclick=\"convertToInteractive('df-269f6cff-f840-46a9-84af-953cd01104ba')\"\n",
              "              title=\"Convert this dataframe to an interactive table.\"\n",
              "              style=\"display:none;\">\n",
              "        \n",
              "  <svg xmlns=\"http://www.w3.org/2000/svg\" height=\"24px\"viewBox=\"0 0 24 24\"\n",
              "       width=\"24px\">\n",
              "    <path d=\"M0 0h24v24H0V0z\" fill=\"none\"/>\n",
              "    <path d=\"M18.56 5.44l.94 2.06.94-2.06 2.06-.94-2.06-.94-.94-2.06-.94 2.06-2.06.94zm-11 1L8.5 8.5l.94-2.06 2.06-.94-2.06-.94L8.5 2.5l-.94 2.06-2.06.94zm10 10l.94 2.06.94-2.06 2.06-.94-2.06-.94-.94-2.06-.94 2.06-2.06.94z\"/><path d=\"M17.41 7.96l-1.37-1.37c-.4-.4-.92-.59-1.43-.59-.52 0-1.04.2-1.43.59L10.3 9.45l-7.72 7.72c-.78.78-.78 2.05 0 2.83L4 21.41c.39.39.9.59 1.41.59.51 0 1.02-.2 1.41-.59l7.78-7.78 2.81-2.81c.8-.78.8-2.07 0-2.86zM5.41 20L4 18.59l7.72-7.72 1.47 1.35L5.41 20z\"/>\n",
              "  </svg>\n",
              "      </button>\n",
              "      \n",
              "  <style>\n",
              "    .colab-df-container {\n",
              "      display:flex;\n",
              "      flex-wrap:wrap;\n",
              "      gap: 12px;\n",
              "    }\n",
              "\n",
              "    .colab-df-convert {\n",
              "      background-color: #E8F0FE;\n",
              "      border: none;\n",
              "      border-radius: 50%;\n",
              "      cursor: pointer;\n",
              "      display: none;\n",
              "      fill: #1967D2;\n",
              "      height: 32px;\n",
              "      padding: 0 0 0 0;\n",
              "      width: 32px;\n",
              "    }\n",
              "\n",
              "    .colab-df-convert:hover {\n",
              "      background-color: #E2EBFA;\n",
              "      box-shadow: 0px 1px 2px rgba(60, 64, 67, 0.3), 0px 1px 3px 1px rgba(60, 64, 67, 0.15);\n",
              "      fill: #174EA6;\n",
              "    }\n",
              "\n",
              "    [theme=dark] .colab-df-convert {\n",
              "      background-color: #3B4455;\n",
              "      fill: #D2E3FC;\n",
              "    }\n",
              "\n",
              "    [theme=dark] .colab-df-convert:hover {\n",
              "      background-color: #434B5C;\n",
              "      box-shadow: 0px 1px 3px 1px rgba(0, 0, 0, 0.15);\n",
              "      filter: drop-shadow(0px 1px 2px rgba(0, 0, 0, 0.3));\n",
              "      fill: #FFFFFF;\n",
              "    }\n",
              "  </style>\n",
              "\n",
              "      <script>\n",
              "        const buttonEl =\n",
              "          document.querySelector('#df-269f6cff-f840-46a9-84af-953cd01104ba button.colab-df-convert');\n",
              "        buttonEl.style.display =\n",
              "          google.colab.kernel.accessAllowed ? 'block' : 'none';\n",
              "\n",
              "        async function convertToInteractive(key) {\n",
              "          const element = document.querySelector('#df-269f6cff-f840-46a9-84af-953cd01104ba');\n",
              "          const dataTable =\n",
              "            await google.colab.kernel.invokeFunction('convertToInteractive',\n",
              "                                                     [key], {});\n",
              "          if (!dataTable) return;\n",
              "\n",
              "          const docLinkHtml = 'Like what you see? Visit the ' +\n",
              "            '<a target=\"_blank\" href=https://colab.research.google.com/notebooks/data_table.ipynb>data table notebook</a>'\n",
              "            + ' to learn more about interactive tables.';\n",
              "          element.innerHTML = '';\n",
              "          dataTable['output_type'] = 'display_data';\n",
              "          await google.colab.output.renderOutput(dataTable, element);\n",
              "          const docLink = document.createElement('div');\n",
              "          docLink.innerHTML = docLinkHtml;\n",
              "          element.appendChild(docLink);\n",
              "        }\n",
              "      </script>\n",
              "    </div>\n",
              "  </div>\n",
              "  "
            ]
          },
          "metadata": {},
          "execution_count": 11
        }
      ]
    },
    {
      "cell_type": "code",
      "source": [
        "labels = set(df['labels'])\n",
        "labels"
      ],
      "metadata": {
        "colab": {
          "base_uri": "https://localhost:8080/"
        },
        "id": "tmclrTBqTIYB",
        "outputId": "034dbdae-1c3a-449d-8cea-03be92737460"
      },
      "execution_count": 12,
      "outputs": [
        {
          "output_type": "execute_result",
          "data": {
            "text/plain": [
              "{'business', 'entertainment', 'politics', 'sport', 'tech'}"
            ]
          },
          "metadata": {},
          "execution_count": 12
        }
      ]
    },
    {
      "cell_type": "code",
      "source": [
        "label = 'business' #we choose only of the labels we want to train from"
      ],
      "metadata": {
        "id": "I7vqBzAHTTeR"
      },
      "execution_count": 13,
      "outputs": []
    },
    {
      "cell_type": "code",
      "source": [
        "texts = df[df['labels'] == label]['text']\n",
        "texts.head() #choose text from rows that match the label of 'business'"
      ],
      "metadata": {
        "colab": {
          "base_uri": "https://localhost:8080/"
        },
        "id": "VI1bpIWyTgkt",
        "outputId": "07ee8a24-c73b-42c9-d4b9-e81964763794"
      },
      "execution_count": 14,
      "outputs": [
        {
          "output_type": "execute_result",
          "data": {
            "text/plain": [
              "0    Ad sales boost Time Warner profit\\n\\nQuarterly...\n",
              "1    Dollar gains on Greenspan speech\\n\\nThe dollar...\n",
              "2    Yukos unit buyer faces loan claim\\n\\nThe owner...\n",
              "3    High fuel prices hit BA's profits\\n\\nBritish A...\n",
              "4    Pernod takeover talk lifts Domecq\\n\\nShares in...\n",
              "Name: text, dtype: object"
            ]
          },
          "metadata": {},
          "execution_count": 14
        }
      ]
    },
    {
      "cell_type": "code",
      "source": [
        "probs = {} #key:(w(t-1)=prev word, w(t+1))=follow word; value: {w(t): count(w(t)) all possible middle words}\n",
        "                                                       #value is a nested dictionary containing all possible middle words\n",
        "for doc in texts: #used for collecting counts\n",
        "  lines = doc.split(\"\\n\")\n",
        "  for line in lines:\n",
        "    tokens = word_tokenize(line)#tokenize the lines, we get a list of tokens\n",
        "    for i in range(len(tokens) - 2):#iterating trigrams, so three tokens taken together\n",
        "      t_0 = tokens[i]\n",
        "      t_1 = tokens[i + 1] #middle word\n",
        "      t_2 = tokens[i + 2]\n",
        "      key = (t_0, t_2)\n",
        "      if key not in probs:\n",
        "        probs[key] = {}# create a new entry\n",
        "      \n",
        "      # add count for middle token\n",
        "      if t_1 not in probs[key]:\n",
        "        probs[key][t_1] = 1\n",
        "      else:\n",
        "        probs[key][t_1] += 1"
      ],
      "metadata": {
        "id": "17Urwul-T_gl"
      },
      "execution_count": 15,
      "outputs": []
    },
    {
      "cell_type": "code",
      "source": [
        "# normalize probabilities\n",
        "for key, d in probs.items(): #key=context words,d=prob. for the middle word\n",
        "  # d should represent a distribution\n",
        "  total = sum(d.values())\n",
        "  for k, v in d.items():\n",
        "    d[k] = v / total"
      ],
      "metadata": {
        "id": "KGvxJnXkZdfP"
      },
      "execution_count": 16,
      "outputs": []
    },
    {
      "cell_type": "code",
      "source": [
        "#probs\n",
        "#model is complete"
      ],
      "metadata": {
        "id": "IiKUG3fif1O2"
      },
      "execution_count": 37,
      "outputs": []
    },
    {
      "cell_type": "code",
      "source": [
        "texts.iloc[0].split(\"\\n\") # iloc() function in python is defined in the Pandas module that helps us to select a specific row or column from the data set."
      ],
      "metadata": {
        "colab": {
          "base_uri": "https://localhost:8080/"
        },
        "id": "HHzRjEvQf6Mh",
        "outputId": "e3242004-1700-4925-99d6-d0ebc4fedc62"
      },
      "execution_count": 18,
      "outputs": [
        {
          "output_type": "execute_result",
          "data": {
            "text/plain": [
              "['Ad sales boost Time Warner profit',\n",
              " '',\n",
              " 'Quarterly profits at US media giant TimeWarner jumped 76% to $1.13bn (£600m) for the three months to December, from $639m year-earlier.',\n",
              " '',\n",
              " 'The firm, which is now one of the biggest investors in Google, benefited from sales of high-speed internet connections and higher advert sales. TimeWarner said fourth quarter sales rose 2% to $11.1bn from $10.9bn. Its profits were buoyed by one-off gains which offset a profit dip at Warner Bros, and less users for AOL.',\n",
              " '',\n",
              " \"Time Warner said on Friday that it now owns 8% of search-engine Google. But its own internet business, AOL, had has mixed fortunes. It lost 464,000 subscribers in the fourth quarter profits were lower than in the preceding three quarters. However, the company said AOL's underlying profit before exceptional items rose 8% on the back of stronger internet advertising revenues. It hopes to increase subscribers by offering the online service free to TimeWarner internet customers and will try to sign up AOL's existing customers for high-speed broadband. TimeWarner also has to restate 2000 and 2003 results following a probe by the US Securities Exchange Commission (SEC), which is close to concluding.\",\n",
              " '',\n",
              " 'Time Warner\\'s fourth quarter profits were slightly better than analysts\\' expectations. But its film division saw profits slump 27% to $284m, helped by box-office flops Alexander and Catwoman, a sharp contrast to year-earlier, when the third and final film in the Lord of the Rings trilogy boosted results. For the full-year, TimeWarner posted a profit of $3.36bn, up 27% from its 2003 performance, while revenues grew 6.4% to $42.09bn. \"Our financial performance was strong, meeting or exceeding all of our full-year objectives and greatly enhancing our flexibility,\" chairman and chief executive Richard Parsons said. For 2005, TimeWarner is projecting operating earnings growth of around 5%, and also expects higher revenue and wider profit margins.',\n",
              " '',\n",
              " \"TimeWarner is to restate its accounts as part of efforts to resolve an inquiry into AOL by US market regulators. It has already offered to pay $300m to settle charges, in a deal that is under review by the SEC. The company said it was unable to estimate the amount it needed to set aside for legal reserves, which it previously set at $500m. It intends to adjust the way it accounts for a deal with German music publisher Bertelsmann's purchase of a stake in AOL Europe, which it had reported as advertising revenue. It will now book the sale of its stake in AOL Europe as a loss on the value of that stake.\"]"
            ]
          },
          "metadata": {},
          "execution_count": 18
        }
      ]
    },
    {
      "cell_type": "code",
      "source": [
        "def spin_document(doc):\n",
        "  #split the document into lines (paragraphs)\n",
        "  #spin each paragraph one by one\n",
        "  lines = doc.split(\"\\n\")\n",
        "  output = []\n",
        "  for line in lines:\n",
        "    if line: #to check if line is empty or not\n",
        "      new_line = spin_line(line)\n",
        "    else:\n",
        "      new_line = line\n",
        "    output.append(new_line)\n",
        "  return \"\\n\".join(output)\n"
      ],
      "metadata": {
        "id": "wOWUZbiQgPLF"
      },
      "execution_count": 19,
      "outputs": []
    },
    {
      "cell_type": "code",
      "source": [
        "detokenizer = TreebankWordDetokenizer() #covert list of tokens back into string\n",
        "                                        #creating an instance of class treebank..\n",
        "                                        #TreebankWordDetikenizer- detokenizes in such a way by putting spaces bw two token s only when req ex-bw two words \n",
        "                                        #and doesnt use space when not required ex- bw a word and punctuation                                      "
      ],
      "metadata": {
        "id": "JYYgJ_xVgStV"
      },
      "execution_count": 20,
      "outputs": []
    },
    {
      "cell_type": "code",
      "source": [
        "texts.iloc[0].split(\"\\n\")[2] #pick a random sentence from one of our documents"
      ],
      "metadata": {
        "colab": {
          "base_uri": "https://localhost:8080/",
          "height": 35
        },
        "id": "ccXvmFg7gWT1",
        "outputId": "95316638-5fa6-4d0d-b56c-969a2e0368da"
      },
      "execution_count": 21,
      "outputs": [
        {
          "output_type": "execute_result",
          "data": {
            "text/plain": [
              "'Quarterly profits at US media giant TimeWarner jumped 76% to $1.13bn (£600m) for the three months to December, from $639m year-earlier.'"
            ],
            "application/vnd.google.colaboratory.intrinsic+json": {
              "type": "string"
            }
          },
          "metadata": {},
          "execution_count": 21
        }
      ]
    },
    {
      "cell_type": "code",
      "source": [
        "detokenizer.detokenize(word_tokenize(texts.iloc[0].split(\"\\n\")[2])) #detokenized string same as the original string"
      ],
      "metadata": {
        "colab": {
          "base_uri": "https://localhost:8080/",
          "height": 35
        },
        "id": "MwMNZgRNga44",
        "outputId": "7201b9ea-fbb2-47f3-fd87-7ed75b97adc6"
      },
      "execution_count": 22,
      "outputs": [
        {
          "output_type": "execute_result",
          "data": {
            "text/plain": [
              "'Quarterly profits at US media giant TimeWarner jumped 76% to $1.13bn (£600m) for the three months to December, from $639m year-earlier.'"
            ],
            "application/vnd.google.colaboratory.intrinsic+json": {
              "type": "string"
            }
          },
          "metadata": {},
          "execution_count": 22
        }
      ]
    },
    {
      "cell_type": "code",
      "source": [
        "def sample_word(d):\n",
        "  p0 = np.random.random()\n",
        "  cumulative = 0\n",
        "  for t, p in d.items():\n",
        "    cumulative += p\n",
        "    if p0 < cumulative:\n",
        "      return t\n",
        "  assert(False) # should never get here"
      ],
      "metadata": {
        "id": "2Vw-vL0_geOL"
      },
      "execution_count": 23,
      "outputs": []
    },
    {
      "cell_type": "code",
      "source": [
        "def spin_line(line):\n",
        "  tokens = word_tokenize(line)\n",
        "  i = 0\n",
        "  output = [tokens[0]]\n",
        "  while i < (len(tokens) - 2):\n",
        "    t_0 = tokens[i]\n",
        "    t_1 = tokens[i + 1]\n",
        "    t_2 = tokens[i + 2]\n",
        "    key = (t_0, t_2)\n",
        "    p_dist = probs[key]\n",
        "    if len(p_dist) > 1 and np.random.random() < 0.3:\n",
        "      # let's replace the middle word\n",
        "      middle = sample_word(p_dist)\n",
        "      #output.append(t_1)\n",
        "      #output.append(\"<\" + middle + \">\")\n",
        "      output.append( middle )\n",
        "      output.append(t_2)\n",
        "\n",
        "      # we won't replace the 3rd token since the middle\n",
        "      # token was dependent on it\n",
        "      # instead, skip ahead 2 steps\n",
        "      i += 2\n",
        "    else:\n",
        "      # we won't replace this middle word\n",
        "      output.append(t_1)\n",
        "      i += 1\n",
        "  # append the final token - only if there was no replacement\n",
        "  if i == len(tokens) - 2:\n",
        "    output.append(tokens[-1])\n",
        "  return detokenizer.detokenize(output)"
      ],
      "metadata": {
        "id": "HHNCKE7_gj9-"
      },
      "execution_count": 24,
      "outputs": []
    },
    {
      "cell_type": "code",
      "source": [
        "np.random.seed(1)"
      ],
      "metadata": {
        "id": "zxA4R2hzgmcM"
      },
      "execution_count": 25,
      "outputs": []
    },
    {
      "cell_type": "code",
      "source": [
        "i = np.random.choice(texts.shape[0])\n",
        "doc = texts.iloc[i]\n",
        "new_doc = spin_document(doc)"
      ],
      "metadata": {
        "id": "3ynOEFwYgpWV"
      },
      "execution_count": 26,
      "outputs": []
    },
    {
      "cell_type": "code",
      "source": [
        "doc"
      ],
      "metadata": {
        "colab": {
          "base_uri": "https://localhost:8080/",
          "height": 139
        },
        "id": "iO2-UO9inhTQ",
        "outputId": "10ae6126-7842-4d13-aeef-2c8bd31fdaef"
      },
      "execution_count": 27,
      "outputs": [
        {
          "output_type": "execute_result",
          "data": {
            "text/plain": [
              "'Deutsche Telekom sees mobile gain\\n\\nGerman telecoms firm Deutsche Telekom saw strong fourth quarter profits on the back of upbeat US mobile earnings and better-than-expected asset sales.\\n\\nNet profit came in at 1.4bn euros (£960m; $1.85bn), a dramatic change from the loss of 364m euros in 2003. Sales rose 2.8% to 14.96bn euros. Sales of stakes in firms including Russia\\'s OAO Mobile Telesystems raised 1.17bn euros. This was more than expected and helped to bring debt down to 35.8bn euros.\\n\\nA year ago, debt was more than 11bn euros higher. T-Mobile USA, the company\\'s American mobile business, made a strong contribution to profits. \"It\\'s a seminal achievement that they cut debt so low. That gives them some head room to invest in growth now,\" said Hannes Wittig, telecoms analyst at Dresdner Kleinwort Wasserstein. The company also said it would resume paying a dividend, after two years in which it focused on cutting debt.'"
            ],
            "application/vnd.google.colaboratory.intrinsic+json": {
              "type": "string"
            }
          },
          "metadata": {},
          "execution_count": 27
        }
      ]
    },
    {
      "cell_type": "code",
      "source": [
        "print(textwrap.fill(\n",
        "    new_doc, replace_whitespace=False, fix_sentence_endings=True))"
      ],
      "metadata": {
        "colab": {
          "base_uri": "https://localhost:8080/"
        },
        "id": "n0cw4I99gsGG",
        "outputId": "0a7767a2-edc5-4b59-84c2-04603d819ab9"
      },
      "execution_count": 28,
      "outputs": [
        {
          "output_type": "stream",
          "name": "stdout",
          "text": [
            "Deutsche Telekom sees mobile gain\n",
            "\n",
            "German telecoms firm Deutsche\n",
            "Telekom saw strong fourth quarter profits saved the order of upbeat US\n",
            "mobile earnings and better-than-expected asset sales.\n",
            "\n",
            "Net profit came\n",
            "in at 1.4bn euros (£960m; $1.85bn), a dramatic change, the loss of\n",
            "364m euros in 2003 . Sales rose 2.8% to 14.96bn euros . Sales of falls\n",
            "in firms including Russia's OAO Mobile Telesystems raised 1.17bn euros\n",
            ". This was more than expected and helped to bring debt down to 43.9bn\n",
            "euros.\n",
            "\n",
            "A year 2050, debt was larger than 11bn euros). T-Mobile USA,\n",
            "the company's American mobile business has made a profitable\n",
            "contribution to build . \"That's a seminal achievement that they cut\n",
            "debt so low . That gives them some head room to invest in growth now,\"\n",
            "said Hannes Wittig, telecoms analyst at Dresdner Kleinwort Wasserstein\n",
            ". The company has said it would be paying a dividend, after two years\n",
            "in which it focused on cutting debt.\n"
          ]
        }
      ]
    },
    {
      "cell_type": "code",
      "source": [
        "##EVALUATION CRITERIA\n",
        "\n",
        "#BLUE SCORE- The Bilingual Evaluation Understudy Score, or BLEU for short, is a metric for evaluating a \n",
        "#generated sentence to a reference sentence. A perfect match results in a score of 1.0, whereas a perfect mismatch results in a score of 0.0.\n",
        "#The primary programming task for a BLEU implementor is to compare n-grams of the candidate with the n-grams of the reference translation \n",
        "#and count the number of matches.\n",
        "lines = doc.split(\"\\n\")\n",
        "for line in lines:\n",
        "  tokens=word_tokenize(line)\n",
        "\n",
        "lines2 = new_doc.split(\"\\n\")\n",
        "for line in lines2:\n",
        "  tokens2=word_tokenize(line)\n",
        "\n",
        "print(tokens)\n",
        "print(tokens2)\n",
        "\n",
        "# n-gram individual BLEU\n",
        "from nltk.translate.bleu_score import sentence_bleu\n",
        "print(' 1-gram BLUE score: %f' % sentence_bleu(tokens, tokens2, weights=(1, 0, 0, 0)))\n",
        "print(' 2-gram BLUE score: %f' % sentence_bleu(tokens, tokens2, weights=(0, 1, 0, 0)))\n",
        "print(' 3-gram BLUE score: %f' % sentence_bleu(tokens, tokens2, weights=(0, 0, 1, 0)))\n",
        "print(' 4-gram BLUE score: %f' % sentence_bleu(tokens, tokens2, weights=(0, 0, 0, 1)))"
      ],
      "metadata": {
        "id": "rs7gtuwZg17g",
        "colab": {
          "base_uri": "https://localhost:8080/"
        },
        "outputId": "b912ee8f-b17b-401e-99ad-11a261c60fa3"
      },
      "execution_count": 29,
      "outputs": [
        {
          "output_type": "stream",
          "name": "stdout",
          "text": [
            "['A', 'year', 'ago', ',', 'debt', 'was', 'more', 'than', '11bn', 'euros', 'higher', '.', 'T-Mobile', 'USA', ',', 'the', 'company', \"'s\", 'American', 'mobile', 'business', ',', 'made', 'a', 'strong', 'contribution', 'to', 'profits', '.', '``', 'It', \"'s\", 'a', 'seminal', 'achievement', 'that', 'they', 'cut', 'debt', 'so', 'low', '.', 'That', 'gives', 'them', 'some', 'head', 'room', 'to', 'invest', 'in', 'growth', 'now', ',', \"''\", 'said', 'Hannes', 'Wittig', ',', 'telecoms', 'analyst', 'at', 'Dresdner', 'Kleinwort', 'Wasserstein', '.', 'The', 'company', 'also', 'said', 'it', 'would', 'resume', 'paying', 'a', 'dividend', ',', 'after', 'two', 'years', 'in', 'which', 'it', 'focused', 'on', 'cutting', 'debt', '.']\n",
            "['A', 'year', '2050', ',', 'debt', 'was', 'larger', 'than', '11bn', 'euros', ')', '.', 'T-Mobile', 'USA', ',', 'the', 'company', \"'s\", 'American', 'mobile', 'business', 'has', 'made', 'a', 'profitable', 'contribution', 'to', 'build', '.', '``', 'That', \"'s\", 'a', 'seminal', 'achievement', 'that', 'they', 'cut', 'debt', 'so', 'low', '.', 'That', 'gives', 'them', 'some', 'head', 'room', 'to', 'invest', 'in', 'growth', 'now', ',', \"''\", 'said', 'Hannes', 'Wittig', ',', 'telecoms', 'analyst', 'at', 'Dresdner', 'Kleinwort', 'Wasserstein', '.', 'The', 'company', 'has', 'said', 'it', 'would', 'be', 'paying', 'a', 'dividend', ',', 'after', 'two', 'years', 'in', 'which', 'it', 'focused', 'on', 'cutting', 'debt', '.']\n",
            " 1-gram BLUE score: 0.056818\n",
            " 2-gram BLUE score: 0.000000\n",
            " 3-gram BLUE score: 0.000000\n",
            " 4-gram BLUE score: 0.000000\n"
          ]
        },
        {
          "output_type": "stream",
          "name": "stderr",
          "text": [
            "/usr/local/lib/python3.10/dist-packages/nltk/translate/bleu_score.py:552: UserWarning: \n",
            "The hypothesis contains 0 counts of 2-gram overlaps.\n",
            "Therefore the BLEU score evaluates to 0, independently of\n",
            "how many N-gram overlaps of lower order it contains.\n",
            "Consider using lower n-gram order or use SmoothingFunction()\n",
            "  warnings.warn(_msg)\n",
            "/usr/local/lib/python3.10/dist-packages/nltk/translate/bleu_score.py:552: UserWarning: \n",
            "The hypothesis contains 0 counts of 3-gram overlaps.\n",
            "Therefore the BLEU score evaluates to 0, independently of\n",
            "how many N-gram overlaps of lower order it contains.\n",
            "Consider using lower n-gram order or use SmoothingFunction()\n",
            "  warnings.warn(_msg)\n",
            "/usr/local/lib/python3.10/dist-packages/nltk/translate/bleu_score.py:552: UserWarning: \n",
            "The hypothesis contains 0 counts of 4-gram overlaps.\n",
            "Therefore the BLEU score evaluates to 0, independently of\n",
            "how many N-gram overlaps of lower order it contains.\n",
            "Consider using lower n-gram order or use SmoothingFunction()\n",
            "  warnings.warn(_msg)\n"
          ]
        }
      ]
    },
    {
      "cell_type": "code",
      "source": [
        "## Comparing with QUILL BOT\n",
        "\n",
        "#text generated by quill bot for the smae doc\n",
        "new_doc2='''Deutsche Telekom predicts an increase in mobile''\n",
        "\n",
        "Deutsche Telekom, a German telecommunications company, reported good fourth quarter profits because to encouraging US mobile earnings and better-than-expected asset sales.\n",
        "\n",
        "\n",
        "Net profit was 1.4 billion euros ($1.85 billion), a significant improvement above the deficit of 364 million euros in 2003. 14.96 billion euros in sales up 2.8%. 1.17 billion euros were collected through the sale of stock in companies including Russia's OAO Mobile Telesystems. This exceeded expectations and reduced debt to 35.8 billion euros.\n",
        "\n",
        "Debt was over 11 billion euros higher a year ago. The company's American mobile division, T-Mobile USA, significantly increased profits. \"That they reduced debt to such a low level is a landmark achievement. They now have some breathing room to invest in growth thanks to it'''\n"
      ],
      "metadata": {
        "id": "o5sWhiBclDbx"
      },
      "execution_count": 30,
      "outputs": []
    },
    {
      "cell_type": "code",
      "source": [
        "print(new_doc2)"
      ],
      "metadata": {
        "colab": {
          "base_uri": "https://localhost:8080/"
        },
        "id": "hv_aM7AYo-3B",
        "outputId": "a8def0f8-0c02-4d3d-da8b-86de033a2186"
      },
      "execution_count": 31,
      "outputs": [
        {
          "output_type": "stream",
          "name": "stdout",
          "text": [
            "Deutsche Telekom predicts an increase in mobile''\n",
            "\n",
            "Deutsche Telekom, a German telecommunications company, reported good fourth quarter profits because to encouraging US mobile earnings and better-than-expected asset sales.\n",
            "\n",
            "\n",
            "Net profit was 1.4 billion euros ($1.85 billion), a significant improvement above the deficit of 364 million euros in 2003. 14.96 billion euros in sales up 2.8%. 1.17 billion euros were collected through the sale of stock in companies including Russia's OAO Mobile Telesystems. This exceeded expectations and reduced debt to 35.8 billion euros.\n",
            "\n",
            "Debt was over 11 billion euros higher a year ago. The company's American mobile division, T-Mobile USA, significantly increased profits. \"That they reduced debt to such a low level is a landmark achievement. They now have some breathing room to invest in growth thanks to it\n"
          ]
        }
      ]
    },
    {
      "cell_type": "code",
      "source": [
        "#comparing quillbot and article spinner\n",
        "lines3 = new_doc2.split(\"\\n\")\n",
        "for line in lines3:\n",
        "  tokens3=word_tokenize(line)\n",
        "\n",
        "#print(tokens)\n",
        "print(tokens3)\n",
        "\n",
        "# n-gram individual BLEU\n",
        "from nltk.translate.bleu_score import sentence_bleu\n",
        "print(' 1-gram BLUE score: %f' % sentence_bleu(tokens, tokens3, weights=(1, 0, 0, 0)))\n",
        "print(' 2-gram BLUE score: %f' % sentence_bleu(tokens, tokens3, weights=(0, 1, 0, 0)))\n",
        "print(' 3-gram BLUE score: %f' % sentence_bleu(tokens, tokens3, weights=(0, 0, 1, 0)))\n",
        "print(' 4-gram BLUE score: %f' % sentence_bleu(tokens, tokens3, weights=(0, 0, 0, 1)))\n"
      ],
      "metadata": {
        "colab": {
          "base_uri": "https://localhost:8080/"
        },
        "id": "TCP8oV6XpHDN",
        "outputId": "10c97520-9fc3-4044-82a1-a12e5ecf4ecb"
      },
      "execution_count": 32,
      "outputs": [
        {
          "output_type": "stream",
          "name": "stdout",
          "text": [
            "['Debt', 'was', 'over', '11', 'billion', 'euros', 'higher', 'a', 'year', 'ago', '.', 'The', 'company', \"'s\", 'American', 'mobile', 'division', ',', 'T-Mobile', 'USA', ',', 'significantly', 'increased', 'profits', '.', '``', 'That', 'they', 'reduced', 'debt', 'to', 'such', 'a', 'low', 'level', 'is', 'a', 'landmark', 'achievement', '.', 'They', 'now', 'have', 'some', 'breathing', 'room', 'to', 'invest', 'in', 'growth', 'thanks', 'to', 'it']\n",
            " 1-gram BLUE score: 0.075472\n",
            " 2-gram BLUE score: 0.000000\n",
            " 3-gram BLUE score: 0.000000\n",
            " 4-gram BLUE score: 0.000000\n"
          ]
        }
      ]
    }
  ]
}